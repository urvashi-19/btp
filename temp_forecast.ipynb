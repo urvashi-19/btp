{
 "cells": [
  {
   "cell_type": "code",
   "execution_count": 30,
   "metadata": {},
   "outputs": [
    {
     "name": "stdout",
     "output_type": "stream",
     "text": [
      "Requirement already satisfied: pmdarima in c:\\users\\0308u\\appdata\\local\\programs\\python\\python310\\lib\\site-packages (2.0.4)Note: you may need to restart the kernel to use updated packages.\n"
     ]
    },
    {
     "name": "stderr",
     "output_type": "stream",
     "text": [
      "\n",
      "[notice] A new release of pip is available: 23.2.1 -> 24.2\n",
      "[notice] To update, run: python.exe -m pip install --upgrade pip\n"
     ]
    },
    {
     "name": "stdout",
     "output_type": "stream",
     "text": [
      "\n",
      "Requirement already satisfied: joblib>=0.11 in c:\\users\\0308u\\appdata\\local\\programs\\python\\python310\\lib\\site-packages (from pmdarima) (1.3.1)\n",
      "Requirement already satisfied: Cython!=0.29.18,!=0.29.31,>=0.29 in c:\\users\\0308u\\appdata\\local\\programs\\python\\python310\\lib\\site-packages (from pmdarima) (3.0.11)\n",
      "Requirement already satisfied: numpy>=1.21.2 in c:\\users\\0308u\\appdata\\local\\programs\\python\\python310\\lib\\site-packages (from pmdarima) (1.25.1)\n",
      "Requirement already satisfied: pandas>=0.19 in c:\\users\\0308u\\appdata\\local\\programs\\python\\python310\\lib\\site-packages (from pmdarima) (2.0.3)\n",
      "Requirement already satisfied: scikit-learn>=0.22 in c:\\users\\0308u\\appdata\\local\\programs\\python\\python310\\lib\\site-packages (from pmdarima) (1.3.0)\n",
      "Requirement already satisfied: scipy>=1.3.2 in c:\\users\\0308u\\appdata\\local\\programs\\python\\python310\\lib\\site-packages (from pmdarima) (1.11.1)\n",
      "Requirement already satisfied: statsmodels>=0.13.2 in c:\\users\\0308u\\appdata\\local\\programs\\python\\python310\\lib\\site-packages (from pmdarima) (0.14.2)\n",
      "Requirement already satisfied: urllib3 in c:\\users\\0308u\\appdata\\local\\programs\\python\\python310\\lib\\site-packages (from pmdarima) (2.1.0)\n",
      "Requirement already satisfied: setuptools!=50.0.0,>=38.6.0 in c:\\users\\0308u\\appdata\\local\\programs\\python\\python310\\lib\\site-packages (from pmdarima) (63.2.0)\n",
      "Requirement already satisfied: packaging>=17.1 in c:\\users\\0308u\\appdata\\local\\programs\\python\\python310\\lib\\site-packages (from pmdarima) (23.1)\n",
      "Requirement already satisfied: python-dateutil>=2.8.2 in c:\\users\\0308u\\appdata\\local\\programs\\python\\python310\\lib\\site-packages (from pandas>=0.19->pmdarima) (2.8.2)\n",
      "Requirement already satisfied: pytz>=2020.1 in c:\\users\\0308u\\appdata\\local\\programs\\python\\python310\\lib\\site-packages (from pandas>=0.19->pmdarima) (2023.3)\n",
      "Requirement already satisfied: tzdata>=2022.1 in c:\\users\\0308u\\appdata\\local\\programs\\python\\python310\\lib\\site-packages (from pandas>=0.19->pmdarima) (2023.3)\n",
      "Requirement already satisfied: threadpoolctl>=2.0.0 in c:\\users\\0308u\\appdata\\local\\programs\\python\\python310\\lib\\site-packages (from scikit-learn>=0.22->pmdarima) (3.1.0)\n",
      "Requirement already satisfied: patsy>=0.5.6 in c:\\users\\0308u\\appdata\\local\\programs\\python\\python310\\lib\\site-packages (from statsmodels>=0.13.2->pmdarima) (0.5.6)\n",
      "Requirement already satisfied: six in c:\\users\\0308u\\appdata\\local\\programs\\python\\python310\\lib\\site-packages (from patsy>=0.5.6->statsmodels>=0.13.2->pmdarima) (1.16.0)\n"
     ]
    }
   ],
   "source": [
    "pip install pmdarima"
   ]
  },
  {
   "cell_type": "code",
   "execution_count": 31,
   "metadata": {},
   "outputs": [
    {
     "name": "stdout",
     "output_type": "stream",
     "text": [
      "Shape of data (4898, 5)\n"
     ]
    },
    {
     "data": {
      "text/html": [
       "<div>\n",
       "<style scoped>\n",
       "    .dataframe tbody tr th:only-of-type {\n",
       "        vertical-align: middle;\n",
       "    }\n",
       "\n",
       "    .dataframe tbody tr th {\n",
       "        vertical-align: top;\n",
       "    }\n",
       "\n",
       "    .dataframe thead th {\n",
       "        text-align: right;\n",
       "    }\n",
       "</style>\n",
       "<table border=\"1\" class=\"dataframe\">\n",
       "  <thead>\n",
       "    <tr style=\"text-align: right;\">\n",
       "      <th></th>\n",
       "      <th>tempr</th>\n",
       "      <th>ap</th>\n",
       "      <th>ws</th>\n",
       "      <th>wd</th>\n",
       "      <th>rh</th>\n",
       "    </tr>\n",
       "    <tr>\n",
       "      <th>obstime</th>\n",
       "      <th></th>\n",
       "      <th></th>\n",
       "      <th></th>\n",
       "      <th></th>\n",
       "      <th></th>\n",
       "    </tr>\n",
       "  </thead>\n",
       "  <tbody>\n",
       "    <tr>\n",
       "      <th>2015-11-01 00:00:00</th>\n",
       "      <td>-12.52</td>\n",
       "      <td>973.92</td>\n",
       "      <td>29.30</td>\n",
       "      <td>86.38</td>\n",
       "      <td>43.13</td>\n",
       "    </tr>\n",
       "    <tr>\n",
       "      <th>2015-11-01 01:00:00</th>\n",
       "      <td>-11.88</td>\n",
       "      <td>973.54</td>\n",
       "      <td>26.00</td>\n",
       "      <td>87.63</td>\n",
       "      <td>44.22</td>\n",
       "    </tr>\n",
       "    <tr>\n",
       "      <th>2015-11-01 02:00:00</th>\n",
       "      <td>-10.60</td>\n",
       "      <td>973.14</td>\n",
       "      <td>24.80</td>\n",
       "      <td>86.27</td>\n",
       "      <td>43.35</td>\n",
       "    </tr>\n",
       "    <tr>\n",
       "      <th>2015-11-01 03:00:00</th>\n",
       "      <td>-9.46</td>\n",
       "      <td>972.51</td>\n",
       "      <td>23.96</td>\n",
       "      <td>87.77</td>\n",
       "      <td>43.95</td>\n",
       "    </tr>\n",
       "    <tr>\n",
       "      <th>2015-11-01 04:00:00</th>\n",
       "      <td>-7.80</td>\n",
       "      <td>971.80</td>\n",
       "      <td>20.90</td>\n",
       "      <td>72.77</td>\n",
       "      <td>44.03</td>\n",
       "    </tr>\n",
       "  </tbody>\n",
       "</table>\n",
       "</div>"
      ],
      "text/plain": [
       "                     tempr      ap     ws     wd     rh\n",
       "obstime                                                \n",
       "2015-11-01 00:00:00 -12.52  973.92  29.30  86.38  43.13\n",
       "2015-11-01 01:00:00 -11.88  973.54  26.00  87.63  44.22\n",
       "2015-11-01 02:00:00 -10.60  973.14  24.80  86.27  43.35\n",
       "2015-11-01 03:00:00  -9.46  972.51  23.96  87.77  43.95\n",
       "2015-11-01 04:00:00  -7.80  971.80  20.90  72.77  44.03"
      ]
     },
     "execution_count": 31,
     "metadata": {},
     "output_type": "execute_result"
    }
   ],
   "source": [
    "import pandas as pd\n",
    "import numpy as np\n",
    "df = pd.read_csv('weather1.csv',index_col='obstime',parse_dates=True)\n",
    "df = df.dropna()\n",
    "print('Shape of data',df.shape)\n",
    "df.head()"
   ]
  },
  {
   "cell_type": "code",
   "execution_count": 32,
   "metadata": {},
   "outputs": [
    {
     "data": {
      "text/plain": [
       "<Axes: xlabel='obstime'>"
      ]
     },
     "execution_count": 32,
     "metadata": {},
     "output_type": "execute_result"
    },
    {
     "data": {
      "image/png": "[encoded data removed]",
      "text/plain": [
       "<Figure size 1200x500 with 1 Axes>"
      ]
     },
     "metadata": {},
     "output_type": "display_data"
    }
   ],
   "source": [
    "df['tempr'].plot(figsize=(12,5))"
   ]
  },
  {
   "cell_type": "markdown",
   "metadata": {},
   "source": [
    "Now we will check for stationarity. Conditions for stationarity are:\n",
    "1. Means and Variance should be constant\n",
    "2. Timeseries should not have any repeating pattern or trends\n",
    "\n",
    "We now gonna use 'Augmented Dickey-Fuller' test used for checking the stationarity of a time series.\n",
    "\n",
    "P-value = Probablity value \n",
    "if p>0.5 : dataset not stationary\n",
    "if p<0.5 :  dataset is stationary\n",
    "\n",
    "If a time series does not exhibit autocorrelation (i.e., the values are independent of each other over time), simpler models like moving averages or basic statistical methods might be sufficient for analysis and forecasting."
   ]
  },
  {
   "cell_type": "code",
   "execution_count": 33,
   "metadata": {},
   "outputs": [
    {
     "name": "stdout",
     "output_type": "stream",
     "text": [
      "1. ADF : -3.1530044744195496\n",
      "2. P-Value: 0.022871278507630665\n",
      "3. Num of Lags : 32\n",
      "4. Num Of Observations Used For ADF Regression and Critical Values Calculation : 4865\n",
      "5. Critical Values :\n",
      "\t 1% : -3.4316948620176393\n",
      "\t 5% : -2.862134279956787\n",
      "\t 10% : -2.5670863365651626\n"
     ]
    }
   ],
   "source": [
    "from statsmodels.tsa.stattools import adfuller\n",
    "dftest = adfuller(df['tempr'] , autolag='AIC')\n",
    "print(\"1. ADF :\" , dftest[0])   # A more negative value generally indicates stronger evidence against the null hypothesis, suggesting that the data is stationary.\n",
    "print(\"2. P-Value:\" , dftest[1])\n",
    "print(\"3. Num of Lags :\" , dftest[2]) # 32 lags in a time series model  it means the model is using the past 32 values of the time series to predict or explain the present value.\n",
    "print(\"4. Num Of Observations Used For ADF Regression and Critical Values Calculation :\" , dftest[3])\n",
    "print(\"5. Critical Values :\")\n",
    "for key, val in dftest[4].items():\n",
    "    print(\"\\t\",key, \":\", val)"
   ]
  },
  {
   "cell_type": "markdown",
   "metadata": {},
   "source": [
    "Figure Out Order For Arima Model(AR , I , MA)\n",
    "\n",
    "AR=> used past value to make future prediction\n",
    "\n",
    "I=> used to make dataset stationary\n",
    "\n",
    "MA =>  uses past error to make future prediction"
   ]
  },
  {
   "cell_type": "code",
   "execution_count": 34,
   "metadata": {},
   "outputs": [],
   "source": [
    "from pmdarima import auto_arima\n",
    "import warnings\n",
    "warnings.filterwarnings(\"ignore\")"
   ]
  },
  {
   "cell_type": "code",
   "execution_count": 35,
   "metadata": {},
   "outputs": [
    {
     "name": "stdout",
     "output_type": "stream",
     "text": [
      "Performing stepwise search to minimize aic\n",
      " ARIMA(2,1,2)(0,0,0)[0] intercept   : AIC=6451.735, Time=1.08 sec\n",
      " ARIMA(0,1,0)(0,0,0)[0] intercept   : AIC=7574.410, Time=0.55 sec\n",
      " ARIMA(1,1,0)(0,0,0)[0] intercept   : AIC=6481.128, Time=0.47 sec\n",
      " ARIMA(0,1,1)(0,0,0)[0] intercept   : AIC=6730.766, Time=0.85 sec\n",
      " ARIMA(0,1,0)(0,0,0)[0]             : AIC=7572.469, Time=0.28 sec\n",
      " ARIMA(1,1,2)(0,0,0)[0] intercept   : AIC=6449.414, Time=2.02 sec\n",
      " ARIMA(0,1,2)(0,0,0)[0] intercept   : AIC=6563.179, Time=1.15 sec\n",
      " ARIMA(1,1,1)(0,0,0)[0] intercept   : AIC=6447.735, Time=1.76 sec\n",
      " ARIMA(2,1,1)(0,0,0)[0] intercept   : AIC=6449.541, Time=4.40 sec\n",
      " ARIMA(2,1,0)(0,0,0)[0] intercept   : AIC=6451.901, Time=1.64 sec\n",
      " ARIMA(1,1,1)(0,0,0)[0]             : AIC=6445.753, Time=0.97 sec\n",
      " ARIMA(0,1,1)(0,0,0)[0]             : AIC=6728.803, Time=0.47 sec\n",
      " ARIMA(1,1,0)(0,0,0)[0]             : AIC=6479.150, Time=0.57 sec\n",
      " ARIMA(2,1,1)(0,0,0)[0]             : AIC=6447.558, Time=1.75 sec\n",
      " ARIMA(1,1,2)(0,0,0)[0]             : AIC=6447.431, Time=1.34 sec\n",
      " ARIMA(0,1,2)(0,0,0)[0]             : AIC=6561.207, Time=0.50 sec\n",
      " ARIMA(2,1,0)(0,0,0)[0]             : AIC=6449.920, Time=0.38 sec\n",
      " ARIMA(2,1,2)(0,0,0)[0]             : AIC=6449.752, Time=0.90 sec\n",
      "\n",
      "Best model:  ARIMA(1,1,1)(0,0,0)[0]          \n",
      "Total fit time: 21.114 seconds\n"
     ]
    },
    {
     "data": {
      "text/html": [
       "<table class=\"simpletable\">\n",
       "<caption>SARIMAX Results</caption>\n",
       "<tr>\n",
       "  <th>Dep. Variable:</th>           <td>y</td>        <th>  No. Observations:  </th>   <td>4898</td>   \n",
       "</tr>\n",
       "<tr>\n",
       "  <th>Model:</th>           <td>SARIMAX(1, 1, 1)</td> <th>  Log Likelihood     </th> <td>-3219.876</td>\n",
       "</tr>\n",
       "<tr>\n",
       "  <th>Date:</th>            <td>Fri, 23 Aug 2024</td> <th>  AIC                </th> <td>6445.753</td> \n",
       "</tr>\n",
       "<tr>\n",
       "  <th>Time:</th>                <td>12:45:44</td>     <th>  BIC                </th> <td>6465.242</td> \n",
       "</tr>\n",
       "<tr>\n",
       "  <th>Sample:</th>                  <td>0</td>        <th>  HQIC               </th> <td>6452.591</td> \n",
       "</tr>\n",
       "<tr>\n",
       "  <th></th>                      <td> - 4898</td>     <th>                     </th>     <td> </td>    \n",
       "</tr>\n",
       "<tr>\n",
       "  <th>Covariance Type:</th>        <td>opg</td>       <th>                     </th>     <td> </td>    \n",
       "</tr>\n",
       "</table>\n",
       "<table class=\"simpletable\">\n",
       "<tr>\n",
       "     <td></td>       <th>coef</th>     <th>std err</th>      <th>z</th>      <th>P>|z|</th>  <th>[0.025</th>    <th>0.975]</th>  \n",
       "</tr>\n",
       "<tr>\n",
       "  <th>ar.L1</th>  <td>    0.5999</td> <td>    0.017</td> <td>   35.451</td> <td> 0.000</td> <td>    0.567</td> <td>    0.633</td>\n",
       "</tr>\n",
       "<tr>\n",
       "  <th>ma.L1</th>  <td>   -0.1919</td> <td>    0.018</td> <td>  -10.633</td> <td> 0.000</td> <td>   -0.227</td> <td>   -0.157</td>\n",
       "</tr>\n",
       "<tr>\n",
       "  <th>sigma2</th> <td>    0.2181</td> <td>    0.001</td> <td>  203.856</td> <td> 0.000</td> <td>    0.216</td> <td>    0.220</td>\n",
       "</tr>\n",
       "</table>\n",
       "<table class=\"simpletable\">\n",
       "<tr>\n",
       "  <th>Ljung-Box (L1) (Q):</th>     <td>0.01</td> <th>  Jarque-Bera (JB):  </th> <td>232869.09</td>\n",
       "</tr>\n",
       "<tr>\n",
       "  <th>Prob(Q):</th>                <td>0.94</td> <th>  Prob(JB):          </th>   <td>0.00</td>   \n",
       "</tr>\n",
       "<tr>\n",
       "  <th>Heteroskedasticity (H):</th> <td>1.79</td> <th>  Skew:              </th>   <td>1.11</td>   \n",
       "</tr>\n",
       "<tr>\n",
       "  <th>Prob(H) (two-sided):</th>    <td>0.00</td> <th>  Kurtosis:          </th>   <td>36.71</td>  \n",
       "</tr>\n",
       "</table><br/><br/>Warnings:<br/>[1] Covariance matrix calculated using the outer product of gradients (complex-step)."
      ],
      "text/latex": [
       "\\begin{center}\n",
       "\\begin{tabular}{lclc}\n",
       "\\toprule\n",
       "\\textbf{Dep. Variable:}          &        y         & \\textbf{  No. Observations:  } &    4898     \\\\\n",
       "\\textbf{Model:}                  & SARIMAX(1, 1, 1) & \\textbf{  Log Likelihood     } & -3219.876   \\\\\n",
       "\\textbf{Date:}                   & Fri, 23 Aug 2024 & \\textbf{  AIC                } &  6445.753   \\\\\n",
       "\\textbf{Time:}                   &     12:45:44     & \\textbf{  BIC                } &  6465.242   \\\\\n",
       "\\textbf{Sample:}                 &        0         & \\textbf{  HQIC               } &  6452.591   \\\\\n",
       "\\textbf{}                        &      - 4898      & \\textbf{                     } &             \\\\\n",
       "\\textbf{Covariance Type:}        &       opg        & \\textbf{                     } &             \\\\\n",
       "\\bottomrule\n",
       "\\end{tabular}\n",
       "\\begin{tabular}{lcccccc}\n",
       "                & \\textbf{coef} & \\textbf{std err} & \\textbf{z} & \\textbf{P$> |$z$|$} & \\textbf{[0.025} & \\textbf{0.975]}  \\\\\n",
       "\\midrule\n",
       "\\textbf{ar.L1}  &       0.5999  &        0.017     &    35.451  &         0.000        &        0.567    &        0.633     \\\\\n",
       "\\textbf{ma.L1}  &      -0.1919  &        0.018     &   -10.633  &         0.000        &       -0.227    &       -0.157     \\\\\n",
       "\\textbf{sigma2} &       0.2181  &        0.001     &   203.856  &         0.000        &        0.216    &        0.220     \\\\\n",
       "\\bottomrule\n",
       "\\end{tabular}\n",
       "\\begin{tabular}{lclc}\n",
       "\\textbf{Ljung-Box (L1) (Q):}     & 0.01 & \\textbf{  Jarque-Bera (JB):  } & 232869.09  \\\\\n",
       "\\textbf{Prob(Q):}                & 0.94 & \\textbf{  Prob(JB):          } &    0.00    \\\\\n",
       "\\textbf{Heteroskedasticity (H):} & 1.79 & \\textbf{  Skew:              } &    1.11    \\\\\n",
       "\\textbf{Prob(H) (two-sided):}    & 0.00 & \\textbf{  Kurtosis:          } &   36.71    \\\\\n",
       "\\bottomrule\n",
       "\\end{tabular}\n",
       "%\\caption{SARIMAX Results}\n",
       "\\end{center}\n",
       "\n",
       "Warnings: \\newline\n",
       " [1] Covariance matrix calculated using the outer product of gradients (complex-step)."
      ],
      "text/plain": [
       "<class 'statsmodels.iolib.summary.Summary'>\n",
       "\"\"\"\n",
       "                               SARIMAX Results                                \n",
       "==============================================================================\n",
       "Dep. Variable:                      y   No. Observations:                 4898\n",
       "Model:               SARIMAX(1, 1, 1)   Log Likelihood               -3219.876\n",
       "Date:                Fri, 23 Aug 2024   AIC                           6445.753\n",
       "Time:                        12:45:44   BIC                           6465.242\n",
       "Sample:                             0   HQIC                          6452.591\n",
       "                               - 4898                                         \n",
       "Covariance Type:                  opg                                         \n",
       "==============================================================================\n",
       "                 coef    std err          z      P>|z|      [0.025      0.975]\n",
       "------------------------------------------------------------------------------\n",
       "ar.L1          0.5999      0.017     35.451      0.000       0.567       0.633\n",
       "ma.L1         -0.1919      0.018    -10.633      0.000      -0.227      -0.157\n",
       "sigma2         0.2181      0.001    203.856      0.000       0.216       0.220\n",
       "===================================================================================\n",
       "Ljung-Box (L1) (Q):                   0.01   Jarque-Bera (JB):            232869.09\n",
       "Prob(Q):                              0.94   Prob(JB):                         0.00\n",
       "Heteroskedasticity (H):               1.79   Skew:                             1.11\n",
       "Prob(H) (two-sided):                  0.00   Kurtosis:                        36.71\n",
       "===================================================================================\n",
       "\n",
       "Warnings:\n",
       "[1] Covariance matrix calculated using the outer product of gradients (complex-step).\n",
       "\"\"\""
      ]
     },
     "execution_count": 35,
     "metadata": {},
     "output_type": "execute_result"
    }
   ],
   "source": [
    "# auto_arima will generate different order and correspondinng AIC score. The goal is to reduce AIC score\n",
    "stepwide_fit = auto_arima(df['tempr'],trace=True,\n",
    "                          suppress_warnings=True)\n",
    "stepwide_fit.summary()"
   ]
  },
  {
   "cell_type": "markdown",
   "metadata": {},
   "source": [
    "What are orders here\n",
    "\n",
    "ARIMA(p, d, q):\n",
    "\n",
    "p: The number of lag observations included in the model (AutoRegressive part).\n",
    "\n",
    "d: The number of times that the raw observations are differenced (Integrated part).\n",
    "\n",
    "q: The size of the moving average window (Moving Average part).\n",
    "\n",
    "The notation with [0] indicates there is no seasonal component (i.e., it's a non-seasonal ARIMA model).\n",
    "\n",
    "eg: ARIMA(2,1,2): This model includes 2 autoregressive terms, 1 difference, and 2 moving average terms.\n",
    "\n",
    "The AIC score takes into account how well the model fits the data. "
   ]
  },
  {
   "cell_type": "code",
   "execution_count": 36,
   "metadata": {},
   "outputs": [
    {
     "name": "stdout",
     "output_type": "stream",
     "text": [
      "(4898, 5)\n",
      "(30, 5) (30, 5)\n"
     ]
    }
   ],
   "source": [
    "from statsmodels.tsa.arima.model import ARIMA\n",
    "print(df.shape)\n",
    "train=df.iloc[:30]\n",
    "test=df.iloc[-30:]\n",
    "print(train.shape,test.shape)"
   ]
  },
  {
   "cell_type": "code",
   "execution_count": 37,
   "metadata": {},
   "outputs": [
    {
     "data": {
      "text/html": [
       "<table class=\"simpletable\">\n",
       "<caption>SARIMAX Results</caption>\n",
       "<tr>\n",
       "  <th>Dep. Variable:</th>         <td>tempr</td>      <th>  No. Observations:  </th>   <td>30</td>   \n",
       "</tr>\n",
       "<tr>\n",
       "  <th>Model:</th>            <td>ARIMA(3, 0, 30)</td> <th>  Log Likelihood     </th> <td>-14.009</td>\n",
       "</tr>\n",
       "<tr>\n",
       "  <th>Date:</th>            <td>Fri, 23 Aug 2024</td> <th>  AIC                </th> <td>98.019</td> \n",
       "</tr>\n",
       "<tr>\n",
       "  <th>Time:</th>                <td>12:45:47</td>     <th>  BIC                </th> <td>147.061</td>\n",
       "</tr>\n",
       "<tr>\n",
       "  <th>Sample:</th>                  <td>0</td>        <th>  HQIC               </th> <td>113.708</td>\n",
       "</tr>\n",
       "<tr>\n",
       "  <th></th>                       <td> - 30</td>      <th>                     </th>    <td> </td>   \n",
       "</tr>\n",
       "<tr>\n",
       "  <th>Covariance Type:</th>        <td>opg</td>       <th>                     </th>    <td> </td>   \n",
       "</tr>\n",
       "</table>\n",
       "<table class=\"simpletable\">\n",
       "<tr>\n",
       "     <td></td>       <th>coef</th>     <th>std err</th>      <th>z</th>      <th>P>|z|</th>  <th>[0.025</th>    <th>0.975]</th>  \n",
       "</tr>\n",
       "<tr>\n",
       "  <th>const</th>  <td>   -6.5191</td> <td>   28.270</td> <td>   -0.231</td> <td> 0.818</td> <td>  -61.928</td> <td>   48.890</td>\n",
       "</tr>\n",
       "<tr>\n",
       "  <th>ar.L1</th>  <td>    0.5555</td> <td> 1973.280</td> <td>    0.000</td> <td> 1.000</td> <td>-3867.002</td> <td> 3868.113</td>\n",
       "</tr>\n",
       "<tr>\n",
       "  <th>ar.L2</th>  <td>   -0.3362</td> <td> 2671.753</td> <td>   -0.000</td> <td> 1.000</td> <td>-5236.876</td> <td> 5236.203</td>\n",
       "</tr>\n",
       "<tr>\n",
       "  <th>ar.L3</th>  <td>    0.3584</td> <td>  859.191</td> <td>    0.000</td> <td> 1.000</td> <td>-1683.625</td> <td> 1684.342</td>\n",
       "</tr>\n",
       "<tr>\n",
       "  <th>ma.L1</th>  <td>    1.2127</td> <td> 7.33e+04</td> <td> 1.65e-05</td> <td> 1.000</td> <td>-1.44e+05</td> <td> 1.44e+05</td>\n",
       "</tr>\n",
       "<tr>\n",
       "  <th>ma.L2</th>  <td>    1.7471</td> <td> 2.41e+04</td> <td> 7.24e-05</td> <td> 1.000</td> <td>-4.73e+04</td> <td> 4.73e+04</td>\n",
       "</tr>\n",
       "<tr>\n",
       "  <th>ma.L3</th>  <td>    1.9584</td> <td> 6.87e+04</td> <td> 2.85e-05</td> <td> 1.000</td> <td>-1.35e+05</td> <td> 1.35e+05</td>\n",
       "</tr>\n",
       "<tr>\n",
       "  <th>ma.L4</th>  <td>    2.4034</td> <td> 3.09e+04</td> <td> 7.79e-05</td> <td> 1.000</td> <td>-6.05e+04</td> <td> 6.05e+04</td>\n",
       "</tr>\n",
       "<tr>\n",
       "  <th>ma.L5</th>  <td>    1.8488</td> <td>    2e+04</td> <td> 9.23e-05</td> <td> 1.000</td> <td>-3.93e+04</td> <td> 3.93e+04</td>\n",
       "</tr>\n",
       "<tr>\n",
       "  <th>ma.L6</th>  <td>    1.7631</td> <td> 2.68e+04</td> <td> 6.58e-05</td> <td> 1.000</td> <td>-5.25e+04</td> <td> 5.25e+04</td>\n",
       "</tr>\n",
       "<tr>\n",
       "  <th>ma.L7</th>  <td>    1.2513</td> <td> 2.74e+04</td> <td> 4.56e-05</td> <td> 1.000</td> <td>-5.37e+04</td> <td> 5.37e+04</td>\n",
       "</tr>\n",
       "<tr>\n",
       "  <th>ma.L8</th>  <td>    1.2335</td> <td> 6.42e+04</td> <td> 1.92e-05</td> <td> 1.000</td> <td>-1.26e+05</td> <td> 1.26e+05</td>\n",
       "</tr>\n",
       "<tr>\n",
       "  <th>ma.L9</th>  <td>    1.3313</td> <td> 1.89e+04</td> <td> 7.03e-05</td> <td> 1.000</td> <td>-3.71e+04</td> <td> 3.71e+04</td>\n",
       "</tr>\n",
       "<tr>\n",
       "  <th>ma.L10</th> <td>    1.4677</td> <td> 1.33e+04</td> <td>    0.000</td> <td> 1.000</td> <td> -2.6e+04</td> <td>  2.6e+04</td>\n",
       "</tr>\n",
       "<tr>\n",
       "  <th>ma.L11</th> <td>    1.8826</td> <td> 2.98e+04</td> <td> 6.32e-05</td> <td> 1.000</td> <td>-5.84e+04</td> <td> 5.84e+04</td>\n",
       "</tr>\n",
       "<tr>\n",
       "  <th>ma.L12</th> <td>    1.7147</td> <td> 2.63e+04</td> <td> 6.52e-05</td> <td> 1.000</td> <td>-5.15e+04</td> <td> 5.15e+04</td>\n",
       "</tr>\n",
       "<tr>\n",
       "  <th>ma.L13</th> <td>    1.8771</td> <td> 6.66e+04</td> <td> 2.82e-05</td> <td> 1.000</td> <td>-1.31e+05</td> <td> 1.31e+05</td>\n",
       "</tr>\n",
       "<tr>\n",
       "  <th>ma.L14</th> <td>    2.2831</td> <td> 4.13e+04</td> <td> 5.53e-05</td> <td> 1.000</td> <td>-8.09e+04</td> <td> 8.09e+04</td>\n",
       "</tr>\n",
       "<tr>\n",
       "  <th>ma.L15</th> <td>    1.8703</td> <td> 3.85e+04</td> <td> 4.86e-05</td> <td> 1.000</td> <td>-7.54e+04</td> <td> 7.54e+04</td>\n",
       "</tr>\n",
       "<tr>\n",
       "  <th>ma.L16</th> <td>    1.3686</td> <td> 6.45e+04</td> <td> 2.12e-05</td> <td> 1.000</td> <td>-1.26e+05</td> <td> 1.26e+05</td>\n",
       "</tr>\n",
       "<tr>\n",
       "  <th>ma.L17</th> <td>    1.4781</td> <td> 1.36e+04</td> <td>    0.000</td> <td> 1.000</td> <td>-2.66e+04</td> <td> 2.66e+04</td>\n",
       "</tr>\n",
       "<tr>\n",
       "  <th>ma.L18</th> <td>    1.4720</td> <td> 1.53e+04</td> <td> 9.65e-05</td> <td> 1.000</td> <td>-2.99e+04</td> <td> 2.99e+04</td>\n",
       "</tr>\n",
       "<tr>\n",
       "  <th>ma.L19</th> <td>    1.1683</td> <td> 9807.571</td> <td>    0.000</td> <td> 1.000</td> <td>-1.92e+04</td> <td> 1.92e+04</td>\n",
       "</tr>\n",
       "<tr>\n",
       "  <th>ma.L20</th> <td>    1.3768</td> <td> 1.46e+04</td> <td> 9.43e-05</td> <td> 1.000</td> <td>-2.86e+04</td> <td> 2.86e+04</td>\n",
       "</tr>\n",
       "<tr>\n",
       "  <th>ma.L21</th> <td>    1.5684</td> <td> 3972.864</td> <td>    0.000</td> <td> 1.000</td> <td>-7785.101</td> <td> 7788.238</td>\n",
       "</tr>\n",
       "<tr>\n",
       "  <th>ma.L22</th> <td>    1.8511</td> <td> 4.52e+04</td> <td>  4.1e-05</td> <td> 1.000</td> <td>-8.86e+04</td> <td> 8.86e+04</td>\n",
       "</tr>\n",
       "<tr>\n",
       "  <th>ma.L23</th> <td>    2.1076</td> <td> 1.79e+04</td> <td>    0.000</td> <td> 1.000</td> <td> -3.5e+04</td> <td>  3.5e+04</td>\n",
       "</tr>\n",
       "<tr>\n",
       "  <th>ma.L24</th> <td>    1.7222</td> <td> 3.71e+04</td> <td> 4.64e-05</td> <td> 1.000</td> <td>-7.28e+04</td> <td> 7.28e+04</td>\n",
       "</tr>\n",
       "<tr>\n",
       "  <th>ma.L25</th> <td>    1.6148</td> <td> 7774.962</td> <td>    0.000</td> <td> 1.000</td> <td>-1.52e+04</td> <td> 1.52e+04</td>\n",
       "</tr>\n",
       "<tr>\n",
       "  <th>ma.L26</th> <td>    0.6058</td> <td> 5.99e+04</td> <td> 1.01e-05</td> <td> 1.000</td> <td>-1.17e+05</td> <td> 1.17e+05</td>\n",
       "</tr>\n",
       "<tr>\n",
       "  <th>ma.L27</th> <td>    0.4194</td> <td> 2.13e+04</td> <td> 1.97e-05</td> <td> 1.000</td> <td>-4.18e+04</td> <td> 4.18e+04</td>\n",
       "</tr>\n",
       "<tr>\n",
       "  <th>ma.L28</th> <td>   -0.0838</td> <td> 4.74e+04</td> <td>-1.77e-06</td> <td> 1.000</td> <td>-9.28e+04</td> <td> 9.28e+04</td>\n",
       "</tr>\n",
       "<tr>\n",
       "  <th>ma.L29</th> <td>   -0.2592</td> <td> 4.09e+04</td> <td>-6.34e-06</td> <td> 1.000</td> <td>-8.01e+04</td> <td> 8.01e+04</td>\n",
       "</tr>\n",
       "<tr>\n",
       "  <th>ma.L30</th> <td>   -0.5938</td> <td> 3913.865</td> <td>   -0.000</td> <td> 1.000</td> <td>-7671.629</td> <td> 7670.442</td>\n",
       "</tr>\n",
       "<tr>\n",
       "  <th>sigma2</th> <td>    0.0426</td> <td>  186.596</td> <td>    0.000</td> <td> 1.000</td> <td> -365.678</td> <td>  365.763</td>\n",
       "</tr>\n",
       "</table>\n",
       "<table class=\"simpletable\">\n",
       "<tr>\n",
       "  <th>Ljung-Box (L1) (Q):</th>     <td>0.45</td> <th>  Jarque-Bera (JB):  </th> <td>0.63</td>\n",
       "</tr>\n",
       "<tr>\n",
       "  <th>Prob(Q):</th>                <td>0.50</td> <th>  Prob(JB):          </th> <td>0.73</td>\n",
       "</tr>\n",
       "<tr>\n",
       "  <th>Heteroskedasticity (H):</th> <td>0.21</td> <th>  Skew:              </th> <td>0.25</td>\n",
       "</tr>\n",
       "<tr>\n",
       "  <th>Prob(H) (two-sided):</th>    <td>0.02</td> <th>  Kurtosis:          </th> <td>3.50</td>\n",
       "</tr>\n",
       "</table><br/><br/>Warnings:<br/>[1] Covariance matrix calculated using the outer product of gradients (complex-step).<br/>[2] Covariance matrix is singular or near-singular, with condition number 2.59e+18. Standard errors may be unstable."
      ],
      "text/latex": [
       "\\begin{center}\n",
       "\\begin{tabular}{lclc}\n",
       "\\toprule\n",
       "\\textbf{Dep. Variable:}          &      tempr       & \\textbf{  No. Observations:  } &     30      \\\\\n",
       "\\textbf{Model:}                  & ARIMA(3, 0, 30)  & \\textbf{  Log Likelihood     } &  -14.009    \\\\\n",
       "\\textbf{Date:}                   & Fri, 23 Aug 2024 & \\textbf{  AIC                } &   98.019    \\\\\n",
       "\\textbf{Time:}                   &     12:45:47     & \\textbf{  BIC                } &  147.061    \\\\\n",
       "\\textbf{Sample:}                 &        0         & \\textbf{  HQIC               } &  113.708    \\\\\n",
       "\\textbf{}                        &       - 30       & \\textbf{                     } &             \\\\\n",
       "\\textbf{Covariance Type:}        &       opg        & \\textbf{                     } &             \\\\\n",
       "\\bottomrule\n",
       "\\end{tabular}\n",
       "\\begin{tabular}{lcccccc}\n",
       "                & \\textbf{coef} & \\textbf{std err} & \\textbf{z} & \\textbf{P$> |$z$|$} & \\textbf{[0.025} & \\textbf{0.975]}  \\\\\n",
       "\\midrule\n",
       "\\textbf{const}  &      -6.5191  &       28.270     &    -0.231  &         0.818        &      -61.928    &       48.890     \\\\\n",
       "\\textbf{ar.L1}  &       0.5555  &     1973.280     &     0.000  &         1.000        &    -3867.002    &     3868.113     \\\\\n",
       "\\textbf{ar.L2}  &      -0.3362  &     2671.753     &    -0.000  &         1.000        &    -5236.876    &     5236.203     \\\\\n",
       "\\textbf{ar.L3}  &       0.3584  &      859.191     &     0.000  &         1.000        &    -1683.625    &     1684.342     \\\\\n",
       "\\textbf{ma.L1}  &       1.2127  &     7.33e+04     &  1.65e-05  &         1.000        &    -1.44e+05    &     1.44e+05     \\\\\n",
       "\\textbf{ma.L2}  &       1.7471  &     2.41e+04     &  7.24e-05  &         1.000        &    -4.73e+04    &     4.73e+04     \\\\\n",
       "\\textbf{ma.L3}  &       1.9584  &     6.87e+04     &  2.85e-05  &         1.000        &    -1.35e+05    &     1.35e+05     \\\\\n",
       "\\textbf{ma.L4}  &       2.4034  &     3.09e+04     &  7.79e-05  &         1.000        &    -6.05e+04    &     6.05e+04     \\\\\n",
       "\\textbf{ma.L5}  &       1.8488  &        2e+04     &  9.23e-05  &         1.000        &    -3.93e+04    &     3.93e+04     \\\\\n",
       "\\textbf{ma.L6}  &       1.7631  &     2.68e+04     &  6.58e-05  &         1.000        &    -5.25e+04    &     5.25e+04     \\\\\n",
       "\\textbf{ma.L7}  &       1.2513  &     2.74e+04     &  4.56e-05  &         1.000        &    -5.37e+04    &     5.37e+04     \\\\\n",
       "\\textbf{ma.L8}  &       1.2335  &     6.42e+04     &  1.92e-05  &         1.000        &    -1.26e+05    &     1.26e+05     \\\\\n",
       "\\textbf{ma.L9}  &       1.3313  &     1.89e+04     &  7.03e-05  &         1.000        &    -3.71e+04    &     3.71e+04     \\\\\n",
       "\\textbf{ma.L10} &       1.4677  &     1.33e+04     &     0.000  &         1.000        &     -2.6e+04    &      2.6e+04     \\\\\n",
       "\\textbf{ma.L11} &       1.8826  &     2.98e+04     &  6.32e-05  &         1.000        &    -5.84e+04    &     5.84e+04     \\\\\n",
       "\\textbf{ma.L12} &       1.7147  &     2.63e+04     &  6.52e-05  &         1.000        &    -5.15e+04    &     5.15e+04     \\\\\n",
       "\\textbf{ma.L13} &       1.8771  &     6.66e+04     &  2.82e-05  &         1.000        &    -1.31e+05    &     1.31e+05     \\\\\n",
       "\\textbf{ma.L14} &       2.2831  &     4.13e+04     &  5.53e-05  &         1.000        &    -8.09e+04    &     8.09e+04     \\\\\n",
       "\\textbf{ma.L15} &       1.8703  &     3.85e+04     &  4.86e-05  &         1.000        &    -7.54e+04    &     7.54e+04     \\\\\n",
       "\\textbf{ma.L16} &       1.3686  &     6.45e+04     &  2.12e-05  &         1.000        &    -1.26e+05    &     1.26e+05     \\\\\n",
       "\\textbf{ma.L17} &       1.4781  &     1.36e+04     &     0.000  &         1.000        &    -2.66e+04    &     2.66e+04     \\\\\n",
       "\\textbf{ma.L18} &       1.4720  &     1.53e+04     &  9.65e-05  &         1.000        &    -2.99e+04    &     2.99e+04     \\\\\n",
       "\\textbf{ma.L19} &       1.1683  &     9807.571     &     0.000  &         1.000        &    -1.92e+04    &     1.92e+04     \\\\\n",
       "\\textbf{ma.L20} &       1.3768  &     1.46e+04     &  9.43e-05  &         1.000        &    -2.86e+04    &     2.86e+04     \\\\\n",
       "\\textbf{ma.L21} &       1.5684  &     3972.864     &     0.000  &         1.000        &    -7785.101    &     7788.238     \\\\\n",
       "\\textbf{ma.L22} &       1.8511  &     4.52e+04     &   4.1e-05  &         1.000        &    -8.86e+04    &     8.86e+04     \\\\\n",
       "\\textbf{ma.L23} &       2.1076  &     1.79e+04     &     0.000  &         1.000        &     -3.5e+04    &      3.5e+04     \\\\\n",
       "\\textbf{ma.L24} &       1.7222  &     3.71e+04     &  4.64e-05  &         1.000        &    -7.28e+04    &     7.28e+04     \\\\\n",
       "\\textbf{ma.L25} &       1.6148  &     7774.962     &     0.000  &         1.000        &    -1.52e+04    &     1.52e+04     \\\\\n",
       "\\textbf{ma.L26} &       0.6058  &     5.99e+04     &  1.01e-05  &         1.000        &    -1.17e+05    &     1.17e+05     \\\\\n",
       "\\textbf{ma.L27} &       0.4194  &     2.13e+04     &  1.97e-05  &         1.000        &    -4.18e+04    &     4.18e+04     \\\\\n",
       "\\textbf{ma.L28} &      -0.0838  &     4.74e+04     & -1.77e-06  &         1.000        &    -9.28e+04    &     9.28e+04     \\\\\n",
       "\\textbf{ma.L29} &      -0.2592  &     4.09e+04     & -6.34e-06  &         1.000        &    -8.01e+04    &     8.01e+04     \\\\\n",
       "\\textbf{ma.L30} &      -0.5938  &     3913.865     &    -0.000  &         1.000        &    -7671.629    &     7670.442     \\\\\n",
       "\\textbf{sigma2} &       0.0426  &      186.596     &     0.000  &         1.000        &     -365.678    &      365.763     \\\\\n",
       "\\bottomrule\n",
       "\\end{tabular}\n",
       "\\begin{tabular}{lclc}\n",
       "\\textbf{Ljung-Box (L1) (Q):}     & 0.45 & \\textbf{  Jarque-Bera (JB):  } & 0.63  \\\\\n",
       "\\textbf{Prob(Q):}                & 0.50 & \\textbf{  Prob(JB):          } & 0.73  \\\\\n",
       "\\textbf{Heteroskedasticity (H):} & 0.21 & \\textbf{  Skew:              } & 0.25  \\\\\n",
       "\\textbf{Prob(H) (two-sided):}    & 0.02 & \\textbf{  Kurtosis:          } & 3.50  \\\\\n",
       "\\bottomrule\n",
       "\\end{tabular}\n",
       "%\\caption{SARIMAX Results}\n",
       "\\end{center}\n",
       "\n",
       "Warnings: \\newline\n",
       " [1] Covariance matrix calculated using the outer product of gradients (complex-step). \\newline\n",
       " [2] Covariance matrix is singular or near-singular, with condition number 2.59e+18. Standard errors may be unstable."
      ],
      "text/plain": [
       "<class 'statsmodels.iolib.summary.Summary'>\n",
       "\"\"\"\n",
       "                               SARIMAX Results                                \n",
       "==============================================================================\n",
       "Dep. Variable:                  tempr   No. Observations:                   30\n",
       "Model:                ARIMA(3, 0, 30)   Log Likelihood                 -14.009\n",
       "Date:                Fri, 23 Aug 2024   AIC                             98.019\n",
       "Time:                        12:45:47   BIC                            147.061\n",
       "Sample:                             0   HQIC                           113.708\n",
       "                                 - 30                                         \n",
       "Covariance Type:                  opg                                         \n",
       "==============================================================================\n",
       "                 coef    std err          z      P>|z|      [0.025      0.975]\n",
       "------------------------------------------------------------------------------\n",
       "const         -6.5191     28.270     -0.231      0.818     -61.928      48.890\n",
       "ar.L1          0.5555   1973.280      0.000      1.000   -3867.002    3868.113\n",
       "ar.L2         -0.3362   2671.753     -0.000      1.000   -5236.876    5236.203\n",
       "ar.L3          0.3584    859.191      0.000      1.000   -1683.625    1684.342\n",
       "ma.L1          1.2127   7.33e+04   1.65e-05      1.000   -1.44e+05    1.44e+05\n",
       "ma.L2          1.7471   2.41e+04   7.24e-05      1.000   -4.73e+04    4.73e+04\n",
       "ma.L3          1.9584   6.87e+04   2.85e-05      1.000   -1.35e+05    1.35e+05\n",
       "ma.L4          2.4034   3.09e+04   7.79e-05      1.000   -6.05e+04    6.05e+04\n",
       "ma.L5          1.8488      2e+04   9.23e-05      1.000   -3.93e+04    3.93e+04\n",
       "ma.L6          1.7631   2.68e+04   6.58e-05      1.000   -5.25e+04    5.25e+04\n",
       "ma.L7          1.2513   2.74e+04   4.56e-05      1.000   -5.37e+04    5.37e+04\n",
       "ma.L8          1.2335   6.42e+04   1.92e-05      1.000   -1.26e+05    1.26e+05\n",
       "ma.L9          1.3313   1.89e+04   7.03e-05      1.000   -3.71e+04    3.71e+04\n",
       "ma.L10         1.4677   1.33e+04      0.000      1.000    -2.6e+04     2.6e+04\n",
       "ma.L11         1.8826   2.98e+04   6.32e-05      1.000   -5.84e+04    5.84e+04\n",
       "ma.L12         1.7147   2.63e+04   6.52e-05      1.000   -5.15e+04    5.15e+04\n",
       "ma.L13         1.8771   6.66e+04   2.82e-05      1.000   -1.31e+05    1.31e+05\n",
       "ma.L14         2.2831   4.13e+04   5.53e-05      1.000   -8.09e+04    8.09e+04\n",
       "ma.L15         1.8703   3.85e+04   4.86e-05      1.000   -7.54e+04    7.54e+04\n",
       "ma.L16         1.3686   6.45e+04   2.12e-05      1.000   -1.26e+05    1.26e+05\n",
       "ma.L17         1.4781   1.36e+04      0.000      1.000   -2.66e+04    2.66e+04\n",
       "ma.L18         1.4720   1.53e+04   9.65e-05      1.000   -2.99e+04    2.99e+04\n",
       "ma.L19         1.1683   9807.571      0.000      1.000   -1.92e+04    1.92e+04\n",
       "ma.L20         1.3768   1.46e+04   9.43e-05      1.000   -2.86e+04    2.86e+04\n",
       "ma.L21         1.5684   3972.864      0.000      1.000   -7785.101    7788.238\n",
       "ma.L22         1.8511   4.52e+04    4.1e-05      1.000   -8.86e+04    8.86e+04\n",
       "ma.L23         2.1076   1.79e+04      0.000      1.000    -3.5e+04     3.5e+04\n",
       "ma.L24         1.7222   3.71e+04   4.64e-05      1.000   -7.28e+04    7.28e+04\n",
       "ma.L25         1.6148   7774.962      0.000      1.000   -1.52e+04    1.52e+04\n",
       "ma.L26         0.6058   5.99e+04   1.01e-05      1.000   -1.17e+05    1.17e+05\n",
       "ma.L27         0.4194   2.13e+04   1.97e-05      1.000   -4.18e+04    4.18e+04\n",
       "ma.L28        -0.0838   4.74e+04  -1.77e-06      1.000   -9.28e+04    9.28e+04\n",
       "ma.L29        -0.2592   4.09e+04  -6.34e-06      1.000   -8.01e+04    8.01e+04\n",
       "ma.L30        -0.5938   3913.865     -0.000      1.000   -7671.629    7670.442\n",
       "sigma2         0.0426    186.596      0.000      1.000    -365.678     365.763\n",
       "===================================================================================\n",
       "Ljung-Box (L1) (Q):                   0.45   Jarque-Bera (JB):                 0.63\n",
       "Prob(Q):                              0.50   Prob(JB):                         0.73\n",
       "Heteroskedasticity (H):               0.21   Skew:                             0.25\n",
       "Prob(H) (two-sided):                  0.02   Kurtosis:                         3.50\n",
       "===================================================================================\n",
       "\n",
       "Warnings:\n",
       "[1] Covariance matrix calculated using the outer product of gradients (complex-step).\n",
       "[2] Covariance matrix is singular or near-singular, with condition number 2.59e+18. Standard errors may be unstable.\n",
       "\"\"\""
      ]
     },
     "execution_count": 37,
     "metadata": {},
     "output_type": "execute_result"
    }
   ],
   "source": [
    "model = ARIMA(train['tempr'],order=(3,0,30))\n",
    "model = model.fit()\n",
    "model.summary()"
   ]
  },
  {
   "cell_type": "code",
   "execution_count": 38,
   "metadata": {},
   "outputs": [
    {
     "data": {
      "text/plain": [
       "<bound method DataFrame.__len__ of                      tempr      ap     ws     wd     rh\n",
       "obstime                                                \n",
       "2015-11-01 00:00:00 -12.52  973.92  29.30  86.38  43.13\n",
       "2015-11-01 01:00:00 -11.88  973.54  26.00  87.63  44.22\n",
       "2015-11-01 02:00:00 -10.60  973.14  24.80  86.27  43.35\n",
       "2015-11-01 03:00:00  -9.46  972.51  23.96  87.77  43.95\n",
       "2015-11-01 04:00:00  -7.80  971.80  20.90  72.77  44.03\n",
       "...                    ...     ...    ...    ...    ...\n",
       "2016-05-31 19:00:00 -18.09  971.88   6.58  41.80  76.26\n",
       "2016-05-31 20:00:00 -18.32  972.59   6.57  39.93  76.25\n",
       "2016-05-31 21:00:00 -19.51  973.39  10.53  44.23  74.99\n",
       "2016-05-31 22:00:00 -20.86  974.42  11.72  40.68  73.48\n",
       "2016-05-31 23:00:00 -21.39  975.28   9.96  30.62  72.26\n",
       "\n",
       "[4898 rows x 5 columns]>"
      ]
     },
     "execution_count": 38,
     "metadata": {},
     "output_type": "execute_result"
    }
   ],
   "source": [
    "df.__len__"
   ]
  },
  {
   "cell_type": "markdown",
   "metadata": {},
   "source": [
    "Make Predictions on Test Set"
   ]
  },
  {
   "cell_type": "code",
   "execution_count": 39,
   "metadata": {},
   "outputs": [
    {
     "name": "stdout",
     "output_type": "stream",
     "text": [
      "obstime\n",
      "2015-11-02 07:00:00   -5.255697\n",
      "2015-11-02 08:00:00   -5.936043\n",
      "2015-11-02 09:00:00   -6.251114\n",
      "2015-11-02 10:00:00   -6.388408\n",
      "2015-11-02 11:00:00   -6.489523\n",
      "2015-11-02 12:00:00   -6.660447\n",
      "2015-11-02 13:00:00   -6.731592\n",
      "2015-11-02 14:00:00   -6.771050\n",
      "2015-11-02 15:00:00   -6.499097\n",
      "2015-11-02 16:00:00   -6.452610\n",
      "2015-11-02 17:00:00   -6.449024\n",
      "2015-11-02 18:00:00   -6.500899\n",
      "2015-11-02 19:00:00   -6.441888\n",
      "2015-11-02 20:00:00   -6.411574\n",
      "2015-11-02 21:00:00   -6.308860\n",
      "2015-11-02 22:00:00   -6.379055\n",
      "2015-11-02 23:00:00   -6.307107\n",
      "2015-11-03 00:00:00   -6.288405\n",
      "2015-11-03 01:00:00   -6.284955\n",
      "2015-11-03 02:00:00   -6.356088\n",
      "2015-11-03 03:00:00   -6.408707\n",
      "2015-11-03 04:00:00   -6.381916\n",
      "2015-11-03 05:00:00   -6.298226\n",
      "2015-11-03 06:00:00   -6.362763\n",
      "2015-11-03 07:00:00   -6.390601\n",
      "2015-11-03 08:00:00   -6.363829\n",
      "2015-11-03 09:00:00   -6.440702\n",
      "2015-11-03 10:00:00   -6.515020\n",
      "2015-11-03 12:00:00   -6.482060\n",
      "2015-11-03 13:00:00   -6.487840\n",
      "Name: predicted_mean, dtype: float64\n"
     ]
    }
   ],
   "source": [
    "start = len(train)\n",
    "end = len(train)+len(test)-1\n",
    "pred = model.predict(start = start , end = end , typ='levels')\n",
    "pred.index = df.index[start:end+1]\n",
    "print(pred)\n"
   ]
  },
  {
   "cell_type": "code",
   "execution_count": 40,
   "metadata": {},
   "outputs": [
    {
     "data": {
      "text/plain": [
       "<Axes: xlabel='obstime'>"
      ]
     },
     "execution_count": 40,
     "metadata": {},
     "output_type": "execute_result"
    },
    {
     "data": {
      "image/png": "[encoded data removed]",
      "text/plain": [
       "<Figure size 640x480 with 1 Axes>"
      ]
     },
     "metadata": {},
     "output_type": "display_data"
    }
   ],
   "source": [
    "pred.plot(legend=True)\n",
    "test['tempr'].plot(legend=True)"
   ]
  },
  {
   "cell_type": "code",
   "execution_count": 41,
   "metadata": {},
   "outputs": [
    {
     "data": {
      "text/plain": [
       "-19.003"
      ]
     },
     "execution_count": 41,
     "metadata": {},
     "output_type": "execute_result"
    }
   ],
   "source": [
    "test['tempr'].mean()"
   ]
  },
  {
   "cell_type": "code",
   "execution_count": 42,
   "metadata": {},
   "outputs": [
    {
     "name": "stdout",
     "output_type": "stream",
     "text": [
      "12.651165524050063\n"
     ]
    }
   ],
   "source": [
    "from math import sqrt\n",
    "from sklearn.metrics import mean_squared_error\n",
    "rmse = sqrt(mean_squared_error(test['tempr'], pred))\n",
    "print(rmse)"
   ]
  }
 ],
 "metadata": {
  "kernelspec": {
   "display_name": "Python 3",
   "language": "python",
   "name": "python3"
  },
  "language_info": {
   "codemirror_mode": {
    "name": "ipython",
    "version": 3
   },
   "file_extension": ".py",
   "mimetype": "text/x-python",
   "name": "python",
   "nbconvert_exporter": "python",
   "pygments_lexer": "ipython3",
   "version": "3.10.6"
  }
 },
 "nbformat": 4,
 "nbformat_minor": 2
}
